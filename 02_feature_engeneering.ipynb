{
 "cells": [
  {
   "cell_type": "markdown",
   "id": "c1dec3dd",
   "metadata": {
    "heading_collapsed": true
   },
   "source": [
    "# 0.0. Introducao"
   ]
  },
  {
   "cell_type": "markdown",
   "id": "cecf1620",
   "metadata": {
    "heading_collapsed": true,
    "hidden": true
   },
   "source": [
    "## 0.1. Bibliotecas"
   ]
  },
  {
   "cell_type": "code",
   "execution_count": 143,
   "id": "1c8f5655",
   "metadata": {
    "ExecuteTime": {
     "end_time": "2021-11-23T16:48:53.761708Z",
     "start_time": "2021-11-23T16:48:53.737483Z"
    },
    "hidden": true
   },
   "outputs": [],
   "source": [
    "import numpy             as np\n",
    "import pandas            as pd\n",
    "import streamlit         as st\n",
    "import plotly.express    as px\n",
    "import seaborn           as sns\n",
    "import matplotlib.pyplot as plt\n",
    "\n",
    "from datetime import datetime\n",
    "\n",
    "import warnings\n",
    "\n",
    "st.set_page_config( layout= 'wide' )\n",
    "pd.set_option('display.float_format', lambda x: '%.2f' % x)\n",
    "pd.options.display.max_columns = None\n",
    "warnings.filterwarnings( 'ignore' )"
   ]
  },
  {
   "cell_type": "markdown",
   "id": "2d649fc5",
   "metadata": {
    "ExecuteTime": {
     "end_time": "2021-11-22T19:46:25.658436Z",
     "start_time": "2021-11-22T19:46:25.646723Z"
    },
    "heading_collapsed": true,
    "hidden": true
   },
   "source": [
    "## 0.2. Funcoes auxiliares"
   ]
  },
  {
   "cell_type": "code",
   "execution_count": null,
   "id": "a0e7016b",
   "metadata": {
    "hidden": true
   },
   "outputs": [],
   "source": []
  },
  {
   "cell_type": "markdown",
   "id": "29d85801",
   "metadata": {
    "heading_collapsed": true,
    "hidden": true
   },
   "source": [
    "## 0.3. Carregamento dos dados"
   ]
  },
  {
   "cell_type": "code",
   "execution_count": 2,
   "id": "ca2af7c6",
   "metadata": {
    "ExecuteTime": {
     "end_time": "2021-11-23T13:45:56.387635Z",
     "start_time": "2021-11-23T13:45:56.327222Z"
    },
    "hidden": true
   },
   "outputs": [],
   "source": [
    "df1 = pd.read_csv( 'house_rocket.csv')"
   ]
  },
  {
   "cell_type": "markdown",
   "id": "7a4a4934",
   "metadata": {
    "ExecuteTime": {
     "end_time": "2021-11-22T19:48:29.357104Z",
     "start_time": "2021-11-22T19:48:29.341722Z"
    },
    "heading_collapsed": true
   },
   "source": [
    "# 1.0 Descrição dos Dados"
   ]
  },
  {
   "cell_type": "markdown",
   "id": "dbfda764",
   "metadata": {
    "ExecuteTime": {
     "end_time": "2021-11-22T19:53:59.754513Z",
     "start_time": "2021-11-22T19:53:59.739114Z"
    },
    "heading_collapsed": true,
    "hidden": true
   },
   "source": [
    "## 1.1. Dinmensao dos dados"
   ]
  },
  {
   "cell_type": "code",
   "execution_count": 3,
   "id": "0d20d17b",
   "metadata": {
    "ExecuteTime": {
     "end_time": "2021-11-23T13:45:56.402744Z",
     "start_time": "2021-11-23T13:45:56.388789Z"
    },
    "hidden": true
   },
   "outputs": [
    {
     "name": "stdout",
     "output_type": "stream",
     "text": [
      "Número de linhas: 21613.\n",
      "Número de colunas: 21.\n"
     ]
    }
   ],
   "source": [
    "print('Número de linhas: {}.'.format( df1.shape[0] ) )\n",
    "print('Número de colunas: {}.'.format( df1.shape[1] ) )"
   ]
  },
  {
   "cell_type": "markdown",
   "id": "c8e3ec54",
   "metadata": {
    "heading_collapsed": true,
    "hidden": true
   },
   "source": [
    "## 1.2.Tipos de dados"
   ]
  },
  {
   "cell_type": "code",
   "execution_count": 4,
   "id": "4b8245b3",
   "metadata": {
    "ExecuteTime": {
     "end_time": "2021-11-23T13:45:56.591167Z",
     "start_time": "2021-11-23T13:45:56.404737Z"
    },
    "hidden": true
   },
   "outputs": [
    {
     "data": {
      "text/plain": [
       "id                 int64\n",
       "date              object\n",
       "price            float64\n",
       "bedrooms           int64\n",
       "bathrooms        float64\n",
       "sqft_living        int64\n",
       "sqft_lot           int64\n",
       "floors           float64\n",
       "waterfront         int64\n",
       "view               int64\n",
       "condition          int64\n",
       "grade              int64\n",
       "sqft_above         int64\n",
       "sqft_basement      int64\n",
       "yr_built           int64\n",
       "yr_renovated       int64\n",
       "zipcode            int64\n",
       "lat              float64\n",
       "long             float64\n",
       "sqft_living15      int64\n",
       "sqft_lot15         int64\n",
       "dtype: object"
      ]
     },
     "execution_count": 4,
     "metadata": {},
     "output_type": "execute_result"
    }
   ],
   "source": [
    "df1['date'] = pd.to_datetime( df1['date'] ).dt.strftime( '%Y-%m-%d' )\n",
    "df1.dtypes"
   ]
  },
  {
   "cell_type": "markdown",
   "id": "32bc3461",
   "metadata": {
    "heading_collapsed": true,
    "hidden": true
   },
   "source": [
    "## 1.3. Check NA"
   ]
  },
  {
   "cell_type": "code",
   "execution_count": 5,
   "id": "26f0fb5e",
   "metadata": {
    "ExecuteTime": {
     "end_time": "2021-11-23T13:45:56.607109Z",
     "start_time": "2021-11-23T13:45:56.592156Z"
    },
    "hidden": true
   },
   "outputs": [
    {
     "data": {
      "text/plain": [
       "id               0\n",
       "date             0\n",
       "price            0\n",
       "bedrooms         0\n",
       "bathrooms        0\n",
       "sqft_living      0\n",
       "sqft_lot         0\n",
       "floors           0\n",
       "waterfront       0\n",
       "view             0\n",
       "condition        0\n",
       "grade            0\n",
       "sqft_above       0\n",
       "sqft_basement    0\n",
       "yr_built         0\n",
       "yr_renovated     0\n",
       "zipcode          0\n",
       "lat              0\n",
       "long             0\n",
       "sqft_living15    0\n",
       "sqft_lot15       0\n",
       "dtype: int64"
      ]
     },
     "execution_count": 5,
     "metadata": {},
     "output_type": "execute_result"
    }
   ],
   "source": [
    "df1.isna().sum()"
   ]
  },
  {
   "cell_type": "markdown",
   "id": "4a85f7c0",
   "metadata": {
    "heading_collapsed": true,
    "hidden": true
   },
   "source": [
    "## 1.4. Mudanca tipos de dados"
   ]
  },
  {
   "cell_type": "code",
   "execution_count": 6,
   "id": "8a5f52f2",
   "metadata": {
    "ExecuteTime": {
     "end_time": "2021-11-23T13:45:56.638615Z",
     "start_time": "2021-11-23T13:45:56.616584Z"
    },
    "hidden": true
   },
   "outputs": [],
   "source": [
    "df1['bathrooms'] = round( df1['bathrooms'] ).astype( 'int64' )"
   ]
  },
  {
   "cell_type": "markdown",
   "id": "2767236c",
   "metadata": {
    "ExecuteTime": {
     "end_time": "2021-11-22T20:03:39.156285Z",
     "start_time": "2021-11-22T20:03:39.127196Z"
    },
    "heading_collapsed": true,
    "hidden": true
   },
   "source": [
    "## 1.5. Estatística descritiva"
   ]
  },
  {
   "cell_type": "code",
   "execution_count": 7,
   "id": "4513673b",
   "metadata": {
    "ExecuteTime": {
     "end_time": "2021-11-23T13:45:56.669172Z",
     "start_time": "2021-11-23T13:45:56.642073Z"
    },
    "hidden": true
   },
   "outputs": [],
   "source": [
    "num_atributos = df1.select_dtypes( include = ['int64', 'float64'] )"
   ]
  },
  {
   "cell_type": "markdown",
   "id": "cd64331f",
   "metadata": {
    "ExecuteTime": {
     "end_time": "2021-11-22T20:03:40.487226Z",
     "start_time": "2021-11-22T20:03:40.456900Z"
    },
    "heading_collapsed": true,
    "hidden": true
   },
   "source": [
    "### 1.5.1. Atributos numericos"
   ]
  },
  {
   "cell_type": "code",
   "execution_count": 8,
   "id": "b01eb040",
   "metadata": {
    "ExecuteTime": {
     "end_time": "2021-11-23T13:45:56.825744Z",
     "start_time": "2021-11-23T13:45:56.670174Z"
    },
    "hidden": true
   },
   "outputs": [
    {
     "data": {
      "text/html": [
       "<div>\n",
       "<style scoped>\n",
       "    .dataframe tbody tr th:only-of-type {\n",
       "        vertical-align: middle;\n",
       "    }\n",
       "\n",
       "    .dataframe tbody tr th {\n",
       "        vertical-align: top;\n",
       "    }\n",
       "\n",
       "    .dataframe thead th {\n",
       "        text-align: right;\n",
       "    }\n",
       "</style>\n",
       "<table border=\"1\" class=\"dataframe\">\n",
       "  <thead>\n",
       "    <tr style=\"text-align: right;\">\n",
       "      <th></th>\n",
       "      <th>atributos</th>\n",
       "      <th>min</th>\n",
       "      <th>max</th>\n",
       "      <th>range</th>\n",
       "      <th>mean</th>\n",
       "      <th>median</th>\n",
       "      <th>std</th>\n",
       "      <th>skew</th>\n",
       "      <th>kurtosis</th>\n",
       "    </tr>\n",
       "  </thead>\n",
       "  <tbody>\n",
       "    <tr>\n",
       "      <th>0</th>\n",
       "      <td>id</td>\n",
       "      <td>1000102.00</td>\n",
       "      <td>9900000190.00</td>\n",
       "      <td>9899000088.00</td>\n",
       "      <td>4580301520.86</td>\n",
       "      <td>3904930410.00</td>\n",
       "      <td>2876499023.43</td>\n",
       "      <td>0.24</td>\n",
       "      <td>-1.26</td>\n",
       "    </tr>\n",
       "    <tr>\n",
       "      <th>1</th>\n",
       "      <td>price</td>\n",
       "      <td>75000.00</td>\n",
       "      <td>7700000.00</td>\n",
       "      <td>7625000.00</td>\n",
       "      <td>540088.14</td>\n",
       "      <td>450000.00</td>\n",
       "      <td>367118.70</td>\n",
       "      <td>4.02</td>\n",
       "      <td>34.59</td>\n",
       "    </tr>\n",
       "    <tr>\n",
       "      <th>2</th>\n",
       "      <td>bedrooms</td>\n",
       "      <td>0.00</td>\n",
       "      <td>33.00</td>\n",
       "      <td>33.00</td>\n",
       "      <td>3.37</td>\n",
       "      <td>3.00</td>\n",
       "      <td>0.93</td>\n",
       "      <td>1.97</td>\n",
       "      <td>49.06</td>\n",
       "    </tr>\n",
       "    <tr>\n",
       "      <th>3</th>\n",
       "      <td>bathrooms</td>\n",
       "      <td>0.00</td>\n",
       "      <td>8.00</td>\n",
       "      <td>8.00</td>\n",
       "      <td>2.06</td>\n",
       "      <td>2.00</td>\n",
       "      <td>0.76</td>\n",
       "      <td>1.08</td>\n",
       "      <td>2.75</td>\n",
       "    </tr>\n",
       "    <tr>\n",
       "      <th>4</th>\n",
       "      <td>sqft_living</td>\n",
       "      <td>290.00</td>\n",
       "      <td>13540.00</td>\n",
       "      <td>13250.00</td>\n",
       "      <td>2079.90</td>\n",
       "      <td>1910.00</td>\n",
       "      <td>918.42</td>\n",
       "      <td>1.47</td>\n",
       "      <td>5.24</td>\n",
       "    </tr>\n",
       "    <tr>\n",
       "      <th>5</th>\n",
       "      <td>sqft_lot</td>\n",
       "      <td>520.00</td>\n",
       "      <td>1651359.00</td>\n",
       "      <td>1650839.00</td>\n",
       "      <td>15106.97</td>\n",
       "      <td>7618.00</td>\n",
       "      <td>41419.55</td>\n",
       "      <td>13.06</td>\n",
       "      <td>285.08</td>\n",
       "    </tr>\n",
       "    <tr>\n",
       "      <th>6</th>\n",
       "      <td>floors</td>\n",
       "      <td>1.00</td>\n",
       "      <td>3.50</td>\n",
       "      <td>2.50</td>\n",
       "      <td>1.49</td>\n",
       "      <td>1.50</td>\n",
       "      <td>0.54</td>\n",
       "      <td>0.62</td>\n",
       "      <td>-0.48</td>\n",
       "    </tr>\n",
       "    <tr>\n",
       "      <th>7</th>\n",
       "      <td>waterfront</td>\n",
       "      <td>0.00</td>\n",
       "      <td>1.00</td>\n",
       "      <td>1.00</td>\n",
       "      <td>0.01</td>\n",
       "      <td>0.00</td>\n",
       "      <td>0.09</td>\n",
       "      <td>11.39</td>\n",
       "      <td>127.63</td>\n",
       "    </tr>\n",
       "    <tr>\n",
       "      <th>8</th>\n",
       "      <td>view</td>\n",
       "      <td>0.00</td>\n",
       "      <td>4.00</td>\n",
       "      <td>4.00</td>\n",
       "      <td>0.23</td>\n",
       "      <td>0.00</td>\n",
       "      <td>0.77</td>\n",
       "      <td>3.40</td>\n",
       "      <td>10.89</td>\n",
       "    </tr>\n",
       "    <tr>\n",
       "      <th>9</th>\n",
       "      <td>condition</td>\n",
       "      <td>1.00</td>\n",
       "      <td>5.00</td>\n",
       "      <td>4.00</td>\n",
       "      <td>3.41</td>\n",
       "      <td>3.00</td>\n",
       "      <td>0.65</td>\n",
       "      <td>1.03</td>\n",
       "      <td>0.53</td>\n",
       "    </tr>\n",
       "    <tr>\n",
       "      <th>10</th>\n",
       "      <td>grade</td>\n",
       "      <td>1.00</td>\n",
       "      <td>13.00</td>\n",
       "      <td>12.00</td>\n",
       "      <td>7.66</td>\n",
       "      <td>7.00</td>\n",
       "      <td>1.18</td>\n",
       "      <td>0.77</td>\n",
       "      <td>1.19</td>\n",
       "    </tr>\n",
       "    <tr>\n",
       "      <th>11</th>\n",
       "      <td>sqft_above</td>\n",
       "      <td>290.00</td>\n",
       "      <td>9410.00</td>\n",
       "      <td>9120.00</td>\n",
       "      <td>1788.39</td>\n",
       "      <td>1560.00</td>\n",
       "      <td>828.07</td>\n",
       "      <td>1.45</td>\n",
       "      <td>3.40</td>\n",
       "    </tr>\n",
       "    <tr>\n",
       "      <th>12</th>\n",
       "      <td>sqft_basement</td>\n",
       "      <td>0.00</td>\n",
       "      <td>4820.00</td>\n",
       "      <td>4820.00</td>\n",
       "      <td>291.51</td>\n",
       "      <td>0.00</td>\n",
       "      <td>442.56</td>\n",
       "      <td>1.58</td>\n",
       "      <td>2.72</td>\n",
       "    </tr>\n",
       "    <tr>\n",
       "      <th>13</th>\n",
       "      <td>yr_built</td>\n",
       "      <td>1900.00</td>\n",
       "      <td>2015.00</td>\n",
       "      <td>115.00</td>\n",
       "      <td>1971.01</td>\n",
       "      <td>1975.00</td>\n",
       "      <td>29.37</td>\n",
       "      <td>-0.47</td>\n",
       "      <td>-0.66</td>\n",
       "    </tr>\n",
       "    <tr>\n",
       "      <th>14</th>\n",
       "      <td>yr_renovated</td>\n",
       "      <td>0.00</td>\n",
       "      <td>2015.00</td>\n",
       "      <td>2015.00</td>\n",
       "      <td>84.40</td>\n",
       "      <td>0.00</td>\n",
       "      <td>401.67</td>\n",
       "      <td>4.55</td>\n",
       "      <td>18.70</td>\n",
       "    </tr>\n",
       "    <tr>\n",
       "      <th>15</th>\n",
       "      <td>zipcode</td>\n",
       "      <td>98001.00</td>\n",
       "      <td>98199.00</td>\n",
       "      <td>198.00</td>\n",
       "      <td>98077.94</td>\n",
       "      <td>98065.00</td>\n",
       "      <td>53.50</td>\n",
       "      <td>0.41</td>\n",
       "      <td>-0.85</td>\n",
       "    </tr>\n",
       "    <tr>\n",
       "      <th>16</th>\n",
       "      <td>lat</td>\n",
       "      <td>47.16</td>\n",
       "      <td>47.78</td>\n",
       "      <td>0.62</td>\n",
       "      <td>47.56</td>\n",
       "      <td>47.57</td>\n",
       "      <td>0.14</td>\n",
       "      <td>-0.49</td>\n",
       "      <td>-0.68</td>\n",
       "    </tr>\n",
       "    <tr>\n",
       "      <th>17</th>\n",
       "      <td>long</td>\n",
       "      <td>-122.52</td>\n",
       "      <td>-121.31</td>\n",
       "      <td>1.20</td>\n",
       "      <td>-122.21</td>\n",
       "      <td>-122.23</td>\n",
       "      <td>0.14</td>\n",
       "      <td>0.89</td>\n",
       "      <td>1.05</td>\n",
       "    </tr>\n",
       "    <tr>\n",
       "      <th>18</th>\n",
       "      <td>sqft_living15</td>\n",
       "      <td>399.00</td>\n",
       "      <td>6210.00</td>\n",
       "      <td>5811.00</td>\n",
       "      <td>1986.55</td>\n",
       "      <td>1840.00</td>\n",
       "      <td>685.38</td>\n",
       "      <td>1.11</td>\n",
       "      <td>1.60</td>\n",
       "    </tr>\n",
       "    <tr>\n",
       "      <th>19</th>\n",
       "      <td>sqft_lot15</td>\n",
       "      <td>651.00</td>\n",
       "      <td>871200.00</td>\n",
       "      <td>870549.00</td>\n",
       "      <td>12768.46</td>\n",
       "      <td>7620.00</td>\n",
       "      <td>27303.55</td>\n",
       "      <td>9.51</td>\n",
       "      <td>150.76</td>\n",
       "    </tr>\n",
       "  </tbody>\n",
       "</table>\n",
       "</div>"
      ],
      "text/plain": [
       "        atributos        min           max         range          mean  \\\n",
       "0              id 1000102.00 9900000190.00 9899000088.00 4580301520.86   \n",
       "1           price   75000.00    7700000.00    7625000.00     540088.14   \n",
       "2        bedrooms       0.00         33.00         33.00          3.37   \n",
       "3       bathrooms       0.00          8.00          8.00          2.06   \n",
       "4     sqft_living     290.00      13540.00      13250.00       2079.90   \n",
       "5        sqft_lot     520.00    1651359.00    1650839.00      15106.97   \n",
       "6          floors       1.00          3.50          2.50          1.49   \n",
       "7      waterfront       0.00          1.00          1.00          0.01   \n",
       "8            view       0.00          4.00          4.00          0.23   \n",
       "9       condition       1.00          5.00          4.00          3.41   \n",
       "10          grade       1.00         13.00         12.00          7.66   \n",
       "11     sqft_above     290.00       9410.00       9120.00       1788.39   \n",
       "12  sqft_basement       0.00       4820.00       4820.00        291.51   \n",
       "13       yr_built    1900.00       2015.00        115.00       1971.01   \n",
       "14   yr_renovated       0.00       2015.00       2015.00         84.40   \n",
       "15        zipcode   98001.00      98199.00        198.00      98077.94   \n",
       "16            lat      47.16         47.78          0.62         47.56   \n",
       "17           long    -122.52       -121.31          1.20       -122.21   \n",
       "18  sqft_living15     399.00       6210.00       5811.00       1986.55   \n",
       "19     sqft_lot15     651.00     871200.00     870549.00      12768.46   \n",
       "\n",
       "          median           std  skew  kurtosis  \n",
       "0  3904930410.00 2876499023.43  0.24     -1.26  \n",
       "1      450000.00     367118.70  4.02     34.59  \n",
       "2           3.00          0.93  1.97     49.06  \n",
       "3           2.00          0.76  1.08      2.75  \n",
       "4        1910.00        918.42  1.47      5.24  \n",
       "5        7618.00      41419.55 13.06    285.08  \n",
       "6           1.50          0.54  0.62     -0.48  \n",
       "7           0.00          0.09 11.39    127.63  \n",
       "8           0.00          0.77  3.40     10.89  \n",
       "9           3.00          0.65  1.03      0.53  \n",
       "10          7.00          1.18  0.77      1.19  \n",
       "11       1560.00        828.07  1.45      3.40  \n",
       "12          0.00        442.56  1.58      2.72  \n",
       "13       1975.00         29.37 -0.47     -0.66  \n",
       "14          0.00        401.67  4.55     18.70  \n",
       "15      98065.00         53.50  0.41     -0.85  \n",
       "16         47.57          0.14 -0.49     -0.68  \n",
       "17       -122.23          0.14  0.89      1.05  \n",
       "18       1840.00        685.38  1.11      1.60  \n",
       "19       7620.00      27303.55  9.51    150.76  "
      ]
     },
     "execution_count": 8,
     "metadata": {},
     "output_type": "execute_result"
    }
   ],
   "source": [
    "# medidas de tendencia central - mean, median\n",
    "tc1 = pd.DataFrame( num_atributos.apply( np.mean ) ).T\n",
    "tc2 = pd.DataFrame( num_atributos.apply( np.median ) ).T\n",
    "\n",
    "# medidas de dispersao - min, max, std, range, knew, kurtosis\n",
    "d1 = pd.DataFrame( num_atributos.apply( min ) ).T\n",
    "d2 = pd.DataFrame( num_atributos.apply( max ) ).T\n",
    "d3 = pd.DataFrame( num_atributos.apply( np.std ) ).T\n",
    "d4 = pd.DataFrame( num_atributos.apply( lambda x: x.max() - x.min() ) ).T\n",
    "d5 = pd.DataFrame( num_atributos.apply( lambda x: x.skew() ) ).T\n",
    "d6 = pd.DataFrame( num_atributos.apply( lambda x: x.kurtosis() ) ).T\n",
    "\n",
    "m = pd.concat( [d1, d2, d4, tc1, tc2, d3, d5, d6] ).T.reset_index()\n",
    "m.columns = ['atributos', 'min', 'max', 'range', 'mean', 'median', 'std', 'skew', 'kurtosis']\n",
    "m"
   ]
  },
  {
   "cell_type": "markdown",
   "id": "2fdbe068",
   "metadata": {
    "heading_collapsed": true,
    "hidden": true
   },
   "source": [
    "## 1.6. Exclusao de outliers"
   ]
  },
  {
   "cell_type": "code",
   "execution_count": 9,
   "id": "08741bfa",
   "metadata": {
    "ExecuteTime": {
     "end_time": "2021-11-23T13:45:56.855976Z",
     "start_time": "2021-11-23T13:45:56.829968Z"
    },
    "hidden": true
   },
   "outputs": [],
   "source": [
    "df1 = df1[df1['bedrooms'] != 33]"
   ]
  },
  {
   "cell_type": "markdown",
   "id": "aa734ebb",
   "metadata": {
    "heading_collapsed": true
   },
   "source": [
    "# 2.0. Feature Engeneering"
   ]
  },
  {
   "cell_type": "code",
   "execution_count": 10,
   "id": "1cdb1ed8",
   "metadata": {
    "ExecuteTime": {
     "end_time": "2021-11-23T13:45:56.871224Z",
     "start_time": "2021-11-23T13:45:56.860326Z"
    },
    "hidden": true
   },
   "outputs": [],
   "source": [
    "df2 = df1.copy()"
   ]
  },
  {
   "cell_type": "markdown",
   "id": "de3cb997",
   "metadata": {
    "heading_collapsed": true,
    "hidden": true
   },
   "source": [
    "## 2.1. Criação de Hipoteses"
   ]
  },
  {
   "cell_type": "markdown",
   "id": "cb47f0a6",
   "metadata": {
    "hidden": true
   },
   "source": [
    "- H1) Imóveis que possuem vista para água, são 30% mais caros, na média.\n",
    "- H2) Imóveis com data de construção menor que 1955, são 50% mais baratos, na média.\n",
    "- H3) Imóveis sem porão possuem sqft_lot 50% maiores do que imóveis com porão.\n",
    "- H4) O crescimento do preço dos imóveis YoY ( Year over Year ) é de 10%.\n",
    "- H5) Imóveis reformados com 3 banheiros são, em média, 30% mais caros do que imóveis não reformados com 3 banheiros.\n",
    "- H6) Imóveis vendidos no verão são mais caros.\n",
    "- H7) Imóveis construídos nos 2000 são 20% mais caros do que imóveis construídos nos anos de 1980."
   ]
  },
  {
   "cell_type": "markdown",
   "id": "18ec3a5c",
   "metadata": {
    "heading_collapsed": true,
    "hidden": true
   },
   "source": [
    "## 2.2. Feature Engeneering"
   ]
  },
  {
   "cell_type": "code",
   "execution_count": 161,
   "id": "9621fa69",
   "metadata": {
    "ExecuteTime": {
     "end_time": "2021-11-23T16:53:37.296885Z",
     "start_time": "2021-11-23T16:53:36.716289Z"
    },
    "hidden": true
   },
   "outputs": [],
   "source": [
    "# construção antes e depois de 1955\n",
    "df2['before_after_1955'] = df1['yr_built'].apply( lambda x: 'before' if x <= 1955 else 'after')\n",
    "\n",
    "# feature year\n",
    "\n",
    "df2['year'] = pd.to_datetime(df2['date']).dt.strftime( '%Y')\n",
    "\n",
    "# feature month_day\n",
    "df2['month_day'] = pd.to_datetime(df2['date']).dt.strftime( '%m-%d')\n",
    "\n",
    "#feature week_of_year\n",
    "\n",
    "df2['week_of_year'] = pd.to_datetime( df2['date'] ).dt.strftime( '%Y-%U' ) \n",
    "\n",
    "# feature is_basement\n",
    "df2['is_basement'] = df2['sqft_basement'].apply( lambda x: 'yes' if x != 0 else\n",
    "                                                           'no')\n",
    "\n",
    "# feature is_renovated\n",
    "df2['is_renovated'] = df2['yr_renovated'].apply( lambda x: 'yes' if x != 0 else\n",
    "                                                           'no')\n",
    "\n",
    "# feature 2000_or_1980\n",
    "\n",
    "df2['2000_or_1980'] = df2['yr_built'].apply( lambda x: 2000 if ( x >= 2000 ) & ( x > 2010 ) else\n",
    "                                                       1980 if ( x >= 1980 ) & ( x > 1990 ) else\n",
    "                                                       'NA')\n",
    "\n",
    "# feature seasons\n",
    "df2['seasons'] = df2['month_day'].apply( lambda x: 'spring' if ( x >= '03-20' ) & ( x < '06-21' ) else\n",
    "                                                   'summer' if ( x >= '06-21' ) & ( x < '09-22' ) else\n",
    "                                                   'fall'   if ( x >= '09-22' ) & ( x < '12-21' ) else\n",
    "                                                   'winter')\n"
   ]
  },
  {
   "cell_type": "code",
   "execution_count": null,
   "id": "1fbf1082",
   "metadata": {
    "hidden": true
   },
   "outputs": [],
   "source": []
  }
 ],
 "metadata": {
  "kernelspec": {
   "display_name": "Python 3 (ipykernel)",
   "language": "python",
   "name": "python3"
  },
  "language_info": {
   "codemirror_mode": {
    "name": "ipython",
    "version": 3
   },
   "file_extension": ".py",
   "mimetype": "text/x-python",
   "name": "python",
   "nbconvert_exporter": "python",
   "pygments_lexer": "ipython3",
   "version": "3.8.12"
  }
 },
 "nbformat": 4,
 "nbformat_minor": 5
}
