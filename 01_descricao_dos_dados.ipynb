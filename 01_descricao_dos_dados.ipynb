{
 "cells": [
  {
   "cell_type": "markdown",
   "id": "c1dec3dd",
   "metadata": {
    "heading_collapsed": true
   },
   "source": [
    "# 0.0. Intruducao"
   ]
  },
  {
   "cell_type": "markdown",
   "id": "cecf1620",
   "metadata": {
    "heading_collapsed": true,
    "hidden": true
   },
   "source": [
    "## 0.1. Bibliotecas"
   ]
  },
  {
   "cell_type": "code",
   "execution_count": 12,
   "id": "1c8f5655",
   "metadata": {
    "ExecuteTime": {
     "end_time": "2021-11-22T19:53:29.783863Z",
     "start_time": "2021-11-22T19:53:29.752399Z"
    },
    "hidden": true
   },
   "outputs": [],
   "source": [
    "import numpy          as np\n",
    "import pandas         as pd\n",
    "import streamlit      as st\n",
    "import plotly.express as px\n",
    "\n",
    "import warnings\n",
    "\n",
    "st.set_page_config( layout= 'wide' )\n",
    "pd.set_option('display.float_format', lambda x: '%.2f' % x)\n",
    "pd.options.display.max_columns = None\n",
    "warnings.filterwarnings( 'ignore' )"
   ]
  },
  {
   "cell_type": "markdown",
   "id": "2d649fc5",
   "metadata": {
    "ExecuteTime": {
     "end_time": "2021-11-22T19:46:25.658436Z",
     "start_time": "2021-11-22T19:46:25.646723Z"
    },
    "heading_collapsed": true,
    "hidden": true
   },
   "source": [
    "## 0.2. Funcoes auxiliares"
   ]
  },
  {
   "cell_type": "code",
   "execution_count": null,
   "id": "a0e7016b",
   "metadata": {
    "hidden": true
   },
   "outputs": [],
   "source": []
  },
  {
   "cell_type": "markdown",
   "id": "29d85801",
   "metadata": {
    "heading_collapsed": true,
    "hidden": true
   },
   "source": [
    "## 0.3. Carregamento dos dados"
   ]
  },
  {
   "cell_type": "code",
   "execution_count": 4,
   "id": "ca2af7c6",
   "metadata": {
    "ExecuteTime": {
     "end_time": "2021-11-22T19:48:02.046139Z",
     "start_time": "2021-11-22T19:48:01.949161Z"
    },
    "hidden": true
   },
   "outputs": [],
   "source": [
    "df1 = pd.read_csv( 'house_rocket.csv')"
   ]
  },
  {
   "cell_type": "markdown",
   "id": "7a4a4934",
   "metadata": {
    "ExecuteTime": {
     "end_time": "2021-11-22T19:48:29.357104Z",
     "start_time": "2021-11-22T19:48:29.341722Z"
    }
   },
   "source": [
    "# 1.0 Descrição dos Dados"
   ]
  },
  {
   "cell_type": "markdown",
   "id": "dbfda764",
   "metadata": {
    "ExecuteTime": {
     "end_time": "2021-11-22T19:53:59.754513Z",
     "start_time": "2021-11-22T19:53:59.739114Z"
    },
    "heading_collapsed": true
   },
   "source": [
    "## 1.1. Dinmensao dos dados"
   ]
  },
  {
   "cell_type": "code",
   "execution_count": 16,
   "id": "0d20d17b",
   "metadata": {
    "ExecuteTime": {
     "end_time": "2021-11-22T19:55:24.299996Z",
     "start_time": "2021-11-22T19:55:24.286809Z"
    },
    "hidden": true
   },
   "outputs": [
    {
     "name": "stdout",
     "output_type": "stream",
     "text": [
      "Número de linhas: 21613.\n",
      "Número de colunas: 21.\n"
     ]
    }
   ],
   "source": [
    "print('Número de linhas: {}.'.format( df1.shape[0] ) )\n",
    "print('Número de colunas: {}.'.format( df1.shape[1] ) )"
   ]
  },
  {
   "cell_type": "markdown",
   "id": "c8e3ec54",
   "metadata": {
    "heading_collapsed": true
   },
   "source": [
    "## 1.2.Tipos de dados"
   ]
  },
  {
   "cell_type": "code",
   "execution_count": 18,
   "id": "4b8245b3",
   "metadata": {
    "ExecuteTime": {
     "end_time": "2021-11-22T19:57:15.022466Z",
     "start_time": "2021-11-22T19:57:14.985699Z"
    },
    "hidden": true
   },
   "outputs": [
    {
     "data": {
      "text/plain": [
       "id                        int64\n",
       "date             datetime64[ns]\n",
       "price                   float64\n",
       "bedrooms                  int64\n",
       "bathrooms               float64\n",
       "sqft_living               int64\n",
       "sqft_lot                  int64\n",
       "floors                  float64\n",
       "waterfront                int64\n",
       "view                      int64\n",
       "condition                 int64\n",
       "grade                     int64\n",
       "sqft_above                int64\n",
       "sqft_basement             int64\n",
       "yr_built                  int64\n",
       "yr_renovated              int64\n",
       "zipcode                   int64\n",
       "lat                     float64\n",
       "long                    float64\n",
       "sqft_living15             int64\n",
       "sqft_lot15                int64\n",
       "dtype: object"
      ]
     },
     "execution_count": 18,
     "metadata": {},
     "output_type": "execute_result"
    }
   ],
   "source": [
    "df1['date'] = pd.to_datetime(df1['date'])\n",
    "df1.dtypes"
   ]
  },
  {
   "cell_type": "markdown",
   "id": "32bc3461",
   "metadata": {
    "heading_collapsed": true
   },
   "source": [
    "## 1.3. Check NA"
   ]
  },
  {
   "cell_type": "code",
   "execution_count": 19,
   "id": "26f0fb5e",
   "metadata": {
    "ExecuteTime": {
     "end_time": "2021-11-22T19:58:14.306065Z",
     "start_time": "2021-11-22T19:58:14.281056Z"
    },
    "hidden": true
   },
   "outputs": [
    {
     "data": {
      "text/plain": [
       "id               0\n",
       "date             0\n",
       "price            0\n",
       "bedrooms         0\n",
       "bathrooms        0\n",
       "sqft_living      0\n",
       "sqft_lot         0\n",
       "floors           0\n",
       "waterfront       0\n",
       "view             0\n",
       "condition        0\n",
       "grade            0\n",
       "sqft_above       0\n",
       "sqft_basement    0\n",
       "yr_built         0\n",
       "yr_renovated     0\n",
       "zipcode          0\n",
       "lat              0\n",
       "long             0\n",
       "sqft_living15    0\n",
       "sqft_lot15       0\n",
       "dtype: int64"
      ]
     },
     "execution_count": 19,
     "metadata": {},
     "output_type": "execute_result"
    }
   ],
   "source": [
    "df1.isna().sum()"
   ]
  },
  {
   "cell_type": "markdown",
   "id": "4a85f7c0",
   "metadata": {
    "heading_collapsed": true
   },
   "source": [
    "## 1.4. Mudanca tipos de dados"
   ]
  },
  {
   "cell_type": "code",
   "execution_count": 26,
   "id": "8a5f52f2",
   "metadata": {
    "ExecuteTime": {
     "end_time": "2021-11-22T20:03:03.294217Z",
     "start_time": "2021-11-22T20:03:03.258687Z"
    },
    "hidden": true
   },
   "outputs": [],
   "source": [
    "df1['bathrooms'] = round( df1['bathrooms'] ).astype( 'int64' )"
   ]
  },
  {
   "cell_type": "markdown",
   "id": "2767236c",
   "metadata": {
    "ExecuteTime": {
     "end_time": "2021-11-22T20:03:39.156285Z",
     "start_time": "2021-11-22T20:03:39.127196Z"
    }
   },
   "source": [
    "## 1.5. Estatística descritiva"
   ]
  },
  {
   "cell_type": "markdown",
   "id": "cd64331f",
   "metadata": {
    "ExecuteTime": {
     "end_time": "2021-11-22T20:03:40.487226Z",
     "start_time": "2021-11-22T20:03:40.456900Z"
    }
   },
   "source": [
    "### 1.5.1. Atributos numericos"
   ]
  },
  {
   "cell_type": "code",
   "execution_count": null,
   "id": "b01eb040",
   "metadata": {},
   "outputs": [],
   "source": []
  },
  {
   "cell_type": "markdown",
   "id": "b4abd981",
   "metadata": {
    "ExecuteTime": {
     "end_time": "2021-11-22T20:03:41.656981Z",
     "start_time": "2021-11-22T20:03:41.626752Z"
    }
   },
   "source": [
    "### 1.5.2. Atributos categoricos"
   ]
  },
  {
   "cell_type": "code",
   "execution_count": null,
   "id": "ad1b604e",
   "metadata": {},
   "outputs": [],
   "source": []
  }
 ],
 "metadata": {
  "kernelspec": {
   "display_name": "Python 3 (ipykernel)",
   "language": "python",
   "name": "python3"
  },
  "language_info": {
   "codemirror_mode": {
    "name": "ipython",
    "version": 3
   },
   "file_extension": ".py",
   "mimetype": "text/x-python",
   "name": "python",
   "nbconvert_exporter": "python",
   "pygments_lexer": "ipython3",
   "version": "3.8.12"
  }
 },
 "nbformat": 4,
 "nbformat_minor": 5
}
